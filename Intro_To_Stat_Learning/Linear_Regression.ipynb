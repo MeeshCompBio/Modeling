{
    "cells": [
        {
            "cell_type": "code",
            "execution_count": 1,
            "metadata": {},
            "outputs": [],
            "source": [
                "import numpy as np \n",
                "import pandas as pd\n",
                "import seaborn as sns\n",
                "from sklearn.preprocessing import scale\n",
                "import sklearn.linear_model as skl_lm\n",
                "from sklearn.metrics import mean_squared_error, r2_score\n",
                "import statsmodels.api as sm\n",
                "import statsmodels.formula.api as smf\n",
                "\n",
                "#for plotting\n",
                "import matplotlib.pyplot as plt\n",
                "from mpl_toolkits.mplot3d import axes3d\n",
                "%matplotlib inline\n",
                "plt.style.use('seaborn-white')\n",
            ],
        },
        {
            "cell_type": "code",
            "execution_count": null,
            "metadata": {},
            "outputs": [],
            "source": [
                "advertising = pd.read_csv('Data/Advertising.csv', usecols=[1,2,3,4])\n",
                "advertising.info()",
            ],
        },
    ],
    "metadata": {
        "language_info": {
            "codemirror_mode": {"name": "ipython", "version": 3},
            "file_extension": ".py",
            "mimetype": "text/x-python",
            "name": "python",
            "nbconvert_exporter": "python",
            "pygments_lexer": "ipython3",
            "version": "3.7.6-final",
        },
        "orig_nbformat": 2,
        "kernelspec": {
            "name": "python37664bitbaseconda7424053f2ded40fe891fb208e21f757a",
            "display_name": "Python 3.7.6 64-bit ('base': conda)",
        },
    },
    "nbformat": 4,
    "nbformat_minor": 2,
}
